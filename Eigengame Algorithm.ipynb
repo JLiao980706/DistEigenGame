{
 "cells": [
  {
   "cell_type": "markdown",
   "id": "899c0105",
   "metadata": {},
   "source": [
    "# Distributed Low Rank Recovery Problem"
   ]
  },
  {
   "cell_type": "markdown",
   "id": "862ec350",
   "metadata": {},
   "source": [
    "### 1. Original Eigengame -Sequential Algorithm Method"
   ]
  },
  {
   "cell_type": "code",
   "execution_count": 166,
   "id": "c9591965",
   "metadata": {},
   "outputs": [
    {
     "name": "stdout",
     "output_type": "stream",
     "text": [
      "[[ 2 38 47 12 33 43 41 14  9  4]\n",
      " [44 32 38 36 44 16 23 27 37  1]\n",
      " [15 44 46 19  1 43 39 17 44 10]\n",
      " [45 31 40 10 33 17 37  8 39 30]\n",
      " [43 27 27 25 40 42 34 28 27 49]\n",
      " [17 40  4 46 15 26 21 39 28 38]\n",
      " [19  3 44 25 40 37 33 41 19 15]\n",
      " [23 42  0 30 30 19 34 11 31  1]\n",
      " [49 43 17 13 48 48 34 31 33 38]\n",
      " [10 16  2 45  7 40 32 38 24 20]]\n"
     ]
    }
   ],
   "source": [
    "import numpy as np\n",
    "from numpy import linalg as la\n",
    "from numpy.random import RandomState\n",
    "\n",
    "#generate random matrix X \n",
    "#X = np.ceil(np.random.normal(50, 10, size= (100, 100)))\n",
    "Xo = RandomState(1234567890)\n",
    "X = Xo.randint(50, size = (10, 10))\n",
    "\n",
    "print(X)\n"
   ]
  },
  {
   "cell_type": "code",
   "execution_count": null,
   "id": "2b2fde0b",
   "metadata": {
    "scrolled": true
   },
   "outputs": [],
   "source": [
    "'''\n",
    "Changes: \n",
    "- array 100x100\n",
    "- for v initial randomly generate a vector \n",
    "- take away for loop for i \n",
    "- rewards = matrix multiplication\n",
    "- compute gradient manually**\n",
    "- implement ui based on equation 6 and 7\n",
    "- fix t for loop --> ceiling\n",
    "- check multiplication\n",
    "\n",
    "Check:\n",
    "- does ti --> ui include vj? correct way to write u?\n",
    "- is r correct\n",
    "- change if statement?\n",
    "- okay to append first vi in array r?\n",
    "'''\n",
    "\n",
    "\n",
    "# a = alpha = step size\n",
    "a = 0.01\n",
    "# p = max error tolerance\n",
    "p = 0.000001\n",
    "# vi = initial vector - as a randomly generated vector with same dimmension as matrix\n",
    "v = RandomState(1234567890)\n",
    "vi = v.randint(50, size = (1, 10))\n",
    "\n",
    "Xvi = np.dot(vi, X)\n",
    "# utility gradient (equation 7) \n",
    "ui = 2 * X.T * Xvi\n",
    "minimum = min(((la.norm(ui))/2), p)\n",
    "ti = int(np.ceil((5/4) * pow(minimum,-2)))\n",
    "# array to store previous vectors\n",
    "r = []\n",
    "\n",
    "\n",
    "for t in range(1, ti):\n",
    "    rewards = Xvi\n",
    "    #print(rewards)\n",
    "    #print()\n",
    "    # no penalty for first iteration bc no vj (previous vectors) \n",
    "    penalties = 0\n",
    "    \n",
    "    if (t != 1):\n",
    "        # to iterate through previous vectors, smaller than vi\n",
    "        for i in range(1, len(r)):\n",
    "            vj = r[i]\n",
    "            Xvj = np.dot(vj, X)\n",
    "            penalties += (((np.inner(Xvi, Xvj))/(np.inner(Xvj, Xvj))) * Xvj)\n",
    "    diff = rewards - penalties\n",
    "    grad_vi = np.dot(diff, (2 * X.T))\n",
    "    #print(grad_vi)\n",
    "    #print()\n",
    "    #grad_R_vi = grad_vi - ((np.inner(grad_vi, vi))* vi)\n",
    "    # inner euclidean product of vi gradient and vi\n",
    "    product = np.inner(grad_vi, vi)\n",
    "    grad_R_vi = grad_vi - (np.dot(product, vi))\n",
    "    #print(grad_R_vi)\n",
    "    #print()\n",
    "    der_vi = vi + (a * grad_R_vi)\n",
    "    #print(der_vi)\n",
    "    #print()\n",
    "    vi = der_vi / (la.norm(der_vi))\n",
    "    r.append(vi)\n",
    "    print(vi)\n",
    "    print()\n",
    "# return vi \n"
   ]
  },
  {
   "cell_type": "code",
   "execution_count": null,
   "id": "37e0b427",
   "metadata": {},
   "outputs": [],
   "source": [
    "# true eigenvectors (to compare with approx eigenvectors from above)\n",
    "\n",
    "from numpy import linalg as la\n",
    "print(la.eig(X))\n",
    "print()\n"
   ]
  },
  {
   "cell_type": "code",
   "execution_count": null,
   "id": "41416c36",
   "metadata": {
    "scrolled": true
   },
   "outputs": [],
   "source": [
    "# selecting Column Vector\n",
    "#print(X[:,:1])\n",
    "print()\n",
    "\n",
    "# transpose fnc\n",
    "print(X.T)\n",
    "#print(np.transpose(X))\n",
    "print()\n",
    "print()\n",
    "\n",
    "# matrix multiplication\n",
    "v1 = np.random.normal(5,1.5, size= (1, 10))\n",
    "print(np.dot(v1, X))\n",
    "print()\n",
    "print(np.matmul(v1, X))\n",
    "print()\n",
    "print(v1 @ X)\n",
    "print()\n",
    "\n",
    "print(np.inner(v1, X))\n",
    "print()"
   ]
  },
  {
   "cell_type": "code",
   "execution_count": null,
   "id": "79e662f4",
   "metadata": {
    "scrolled": false
   },
   "outputs": [],
   "source": [
    "# eigenvalues, eigenvectors, norm fncs\n",
    "\n",
    "# 1st array = eigenvalues in asceding order\n",
    "# 2nd array = normalized eigenvectors corresponding to eigenvalue\n",
    "from numpy import linalg as la\n",
    "print(la.eig(X))\n",
    "print()\n",
    "print(la.norm(X))\n"
   ]
  },
  {
   "cell_type": "markdown",
   "id": "eb15cea5",
   "metadata": {},
   "source": [
    "# \n",
    "### 2. Deflation Method"
   ]
  },
  {
   "cell_type": "code",
   "execution_count": null,
   "id": "28462426",
   "metadata": {},
   "outputs": [],
   "source": []
  },
  {
   "cell_type": "markdown",
   "id": "abe99fd7",
   "metadata": {},
   "source": [
    "### 3. Eigengame with Parallelism"
   ]
  },
  {
   "cell_type": "code",
   "execution_count": null,
   "id": "6c382701",
   "metadata": {},
   "outputs": [],
   "source": []
  },
  {
   "cell_type": "markdown",
   "id": "73e59547",
   "metadata": {},
   "source": [
    "### 4. Deflation with Parallelism"
   ]
  },
  {
   "cell_type": "code",
   "execution_count": null,
   "id": "697ae2a1",
   "metadata": {},
   "outputs": [],
   "source": []
  }
 ],
 "metadata": {
  "kernelspec": {
   "display_name": "Python 3 (ipykernel)",
   "language": "python",
   "name": "python3"
  },
  "language_info": {
   "codemirror_mode": {
    "name": "ipython",
    "version": 3
   },
   "file_extension": ".py",
   "mimetype": "text/x-python",
   "name": "python",
   "nbconvert_exporter": "python",
   "pygments_lexer": "ipython3",
   "version": "3.10.9"
  }
 },
 "nbformat": 4,
 "nbformat_minor": 5
}
